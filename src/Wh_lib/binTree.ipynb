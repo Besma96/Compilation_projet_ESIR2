{
 "cells": [
  {
   "cell_type": "code",
   "execution_count": 4,
   "metadata": {},
   "outputs": [],
   "source": [
    "class binTree:\n",
    "    \n",
    "    #constructeur \n",
    "    def __init__(self, data, leftTree, rightTree):\n",
    "        self.node = data\n",
    "        if data != \"nil\":\n",
    "            self.left = leftTree\n",
    "            self.right = rightTree\n",
    "        else :\n",
    "            self.left = None\n",
    "            self.right = None\n",
    "    \n",
    "    def __del__(self) :\n",
    "        print (\"deleting object\")\n",
    "    \n",
    "    def getNode(self):\n",
    "        return self.node\n",
    "    \n",
    "    def getLeft(self):\n",
    "        return self.left\n",
    "    \n",
    "    def getRight(self):\n",
    "        return self.right\n",
    "\n",
    "    def setLeft(self, leftTree):\n",
    "        if self.node != \"nil\" :\n",
    "            self.left = leftTree\n",
    "            \n",
    "    def setLeft(self, rightTree):\n",
    "        if self.node != \"nil\" :\n",
    "            self.right = rightTree    \n",
    "    \n",
    "    "
   ]
  },
  {
   "cell_type": "code",
   "execution_count": null,
   "metadata": {},
   "outputs": [],
   "source": []
  }
 ],
 "metadata": {
  "kernelspec": {
   "display_name": "Python 3",
   "language": "python",
   "name": "python3"
  },
  "language_info": {
   "codemirror_mode": {
    "name": "ipython",
    "version": 3
   },
   "file_extension": ".py",
   "mimetype": "text/x-python",
   "name": "python",
   "nbconvert_exporter": "python",
   "pygments_lexer": "ipython3",
   "version": "3.7.0"
  }
 },
 "nbformat": 4,
 "nbformat_minor": 2
}
